{
 "cells": [
  {
   "cell_type": "code",
   "execution_count": 1,
   "id": "initial_id",
   "metadata": {
    "is_executing": true
   },
   "outputs": [],
   "source": [
    "import json"
   ]
  },
  {
   "cell_type": "code",
   "execution_count": 2,
   "id": "4f691f455619e73c",
   "metadata": {
    "collapsed": false,
    "is_executing": true,
    "jupyter": {
     "outputs_hidden": false
    }
   },
   "outputs": [],
   "source": [
    "answer = json.load(open(\"data/gg2013answers.json\", \"r\"))\n"
   ]
  },
  {
   "cell_type": "code",
   "execution_count": 9,
   "id": "6bc53881a0f5fabd",
   "metadata": {
    "collapsed": false,
    "jupyter": {
     "outputs_hidden": false
    }
   },
   "outputs": [
    {
     "name": "stdout",
     "output_type": "stream",
     "text": [
      "best screenplay - motion picture\n",
      "best director - motion picture\n",
      "best performance by an actress in a television series - comedy or musical\n",
      "best foreign language film\n",
      "best performance by an actor in a supporting role in a motion picture\n",
      "best performance by an actress in a supporting role in a series, mini-series or motion picture made for television\n",
      "best motion picture - comedy or musical\n",
      "best performance by an actress in a motion picture - comedy or musical\n",
      "best mini-series or motion picture made for television\n",
      "best original score - motion picture\n",
      "best performance by an actress in a television series - drama\n",
      "best performance by an actress in a motion picture - drama\n",
      "cecil b. demille award\n",
      "best performance by an actor in a motion picture - comedy or musical\n",
      "best motion picture - drama\n",
      "best performance by an actor in a supporting role in a series, mini-series or motion picture made for television\n",
      "best performance by an actress in a supporting role in a motion picture\n",
      "best television series - drama\n",
      "best performance by an actor in a mini-series or motion picture made for television\n",
      "best performance by an actress in a mini-series or motion picture made for television\n",
      "best animated feature film\n",
      "best original song - motion picture\n",
      "best performance by an actor in a motion picture - drama\n",
      "best television series - comedy or musical\n",
      "best performance by an actor in a television series - drama\n",
      "best performance by an actor in a television series - comedy or musical\n"
     ]
    }
   ],
   "source": [
    "for i in answer['award_data'].keys():\n",
    "    print(i)"
   ]
  },
  {
   "cell_type": "code",
   "execution_count": 6,
   "id": "9e8a525d-dead-4027-9dbe-32c51a3de33e",
   "metadata": {},
   "outputs": [
    {
     "name": "stdout",
     "output_type": "stream",
     "text": [
      "26\n"
     ]
    }
   ],
   "source": [
    "ans = dict()\n",
    "for i in answer['award_data'].keys():\n",
    "    tmp = i.split(' ')\n",
    "    for j in tmp:\n",
    "        if j in ans:\n",
    "            ans[j] += 1\n",
    "        else:\n",
    "            ans[j] = 1\n",
    "print(len(answer['award_data'].keys()))"
   ]
  },
  {
   "cell_type": "code",
   "execution_count": 8,
   "id": "baa8b654-c07b-4c18-8ab8-c3b6c2558f65",
   "metadata": {},
   "outputs": [
    {
     "name": "stdout",
     "output_type": "stream",
     "text": [
      "('best', 25)\n",
      "('in', 18)\n",
      "('a', 18)\n",
      "('motion', 17)\n",
      "('picture', 17)\n",
      "('-', 16)\n",
      "('performance', 14)\n",
      "('by', 14)\n",
      "('an', 14)\n",
      "('television', 11)\n",
      "('or', 11)\n",
      "('actress', 7)\n",
      "('actor', 7)\n",
      "('series', 6)\n",
      "('comedy', 6)\n",
      "('musical', 6)\n",
      "('drama', 6)\n",
      "('mini-series', 5)\n",
      "('made', 5)\n",
      "('for', 5)\n",
      "('supporting', 4)\n",
      "('role', 4)\n",
      "('film', 2)\n",
      "('series,', 2)\n",
      "('original', 2)\n",
      "('screenplay', 1)\n",
      "('director', 1)\n",
      "('foreign', 1)\n",
      "('language', 1)\n",
      "('score', 1)\n",
      "('cecil', 1)\n",
      "('b.', 1)\n",
      "('demille', 1)\n",
      "('award', 1)\n",
      "('animated', 1)\n",
      "('feature', 1)\n",
      "('song', 1)\n"
     ]
    }
   ],
   "source": [
    "ans = sorted(ans.items(), key=lambda x: x[1], reverse=True)\n",
    "for i in ans:\n",
    "    print(i)"
   ]
  },
  {
   "cell_type": "code",
   "execution_count": 10,
   "id": "875a43b0-cc20-41f2-b846-6f912b1f8d93",
   "metadata": {},
   "outputs": [],
   "source": [
    "import pandas as pd"
   ]
  },
  {
   "cell_type": "code",
   "execution_count": 12,
   "id": "5dd18206-36ca-4bae-9ba6-3f02fa6d87d7",
   "metadata": {},
   "outputs": [],
   "source": [
    "data = pd.read_csv(\"data/actors.tsv\", sep='\\t')"
   ]
  },
  {
   "cell_type": "code",
   "execution_count": 13,
   "id": "08f3f763-5c39-47b0-a381-d4faaa9de50e",
   "metadata": {},
   "outputs": [
    {
     "data": {
      "text/html": [
       "<div>\n",
       "<style scoped>\n",
       "    .dataframe tbody tr th:only-of-type {\n",
       "        vertical-align: middle;\n",
       "    }\n",
       "\n",
       "    .dataframe tbody tr th {\n",
       "        vertical-align: top;\n",
       "    }\n",
       "\n",
       "    .dataframe thead th {\n",
       "        text-align: right;\n",
       "    }\n",
       "</style>\n",
       "<table border=\"1\" class=\"dataframe\">\n",
       "  <thead>\n",
       "    <tr style=\"text-align: right;\">\n",
       "      <th></th>\n",
       "      <th>nconst</th>\n",
       "      <th>primaryName</th>\n",
       "      <th>birthYear</th>\n",
       "      <th>deathYear</th>\n",
       "      <th>primaryProfession</th>\n",
       "      <th>knownForTitles</th>\n",
       "    </tr>\n",
       "  </thead>\n",
       "  <tbody>\n",
       "    <tr>\n",
       "      <th>0</th>\n",
       "      <td>nm0000001</td>\n",
       "      <td>Fred Astaire</td>\n",
       "      <td>1899</td>\n",
       "      <td>1987</td>\n",
       "      <td>soundtrack,actor,miscellaneous</td>\n",
       "      <td>tt0053137,tt0050419,tt0072308,tt0031983</td>\n",
       "    </tr>\n",
       "    <tr>\n",
       "      <th>1</th>\n",
       "      <td>nm0000002</td>\n",
       "      <td>Lauren Bacall</td>\n",
       "      <td>1924</td>\n",
       "      <td>2014</td>\n",
       "      <td>actress,soundtrack</td>\n",
       "      <td>tt0117057,tt0037382,tt0038355,tt0075213</td>\n",
       "    </tr>\n",
       "    <tr>\n",
       "      <th>2</th>\n",
       "      <td>nm0000003</td>\n",
       "      <td>Brigitte Bardot</td>\n",
       "      <td>1934</td>\n",
       "      <td>\\N</td>\n",
       "      <td>actress,soundtrack,music_department</td>\n",
       "      <td>tt0049189,tt0054452,tt0056404,tt0057345</td>\n",
       "    </tr>\n",
       "    <tr>\n",
       "      <th>3</th>\n",
       "      <td>nm0000004</td>\n",
       "      <td>John Belushi</td>\n",
       "      <td>1949</td>\n",
       "      <td>1982</td>\n",
       "      <td>actor,soundtrack,writer</td>\n",
       "      <td>tt0077975,tt0080455,tt0072562,tt0078723</td>\n",
       "    </tr>\n",
       "    <tr>\n",
       "      <th>4</th>\n",
       "      <td>nm0000005</td>\n",
       "      <td>Ingmar Bergman</td>\n",
       "      <td>1918</td>\n",
       "      <td>2007</td>\n",
       "      <td>writer,director,actor</td>\n",
       "      <td>tt0069467,tt0050986,tt0050976,tt0083922</td>\n",
       "    </tr>\n",
       "    <tr>\n",
       "      <th>...</th>\n",
       "      <td>...</td>\n",
       "      <td>...</td>\n",
       "      <td>...</td>\n",
       "      <td>...</td>\n",
       "      <td>...</td>\n",
       "      <td>...</td>\n",
       "    </tr>\n",
       "    <tr>\n",
       "      <th>12931040</th>\n",
       "      <td>nm9993714</td>\n",
       "      <td>Romeo del Rosario</td>\n",
       "      <td>\\N</td>\n",
       "      <td>\\N</td>\n",
       "      <td>animation_department,art_department</td>\n",
       "      <td>tt14069590,tt11657662,tt2455546</td>\n",
       "    </tr>\n",
       "    <tr>\n",
       "      <th>12931041</th>\n",
       "      <td>nm9993716</td>\n",
       "      <td>Essias Loberg</td>\n",
       "      <td>\\N</td>\n",
       "      <td>\\N</td>\n",
       "      <td>NaN</td>\n",
       "      <td>\\N</td>\n",
       "    </tr>\n",
       "    <tr>\n",
       "      <th>12931042</th>\n",
       "      <td>nm9993717</td>\n",
       "      <td>Harikrishnan Rajan</td>\n",
       "      <td>\\N</td>\n",
       "      <td>\\N</td>\n",
       "      <td>cinematographer</td>\n",
       "      <td>tt8736744</td>\n",
       "    </tr>\n",
       "    <tr>\n",
       "      <th>12931043</th>\n",
       "      <td>nm9993718</td>\n",
       "      <td>Aayush Nair</td>\n",
       "      <td>\\N</td>\n",
       "      <td>\\N</td>\n",
       "      <td>cinematographer</td>\n",
       "      <td>tt8736744</td>\n",
       "    </tr>\n",
       "    <tr>\n",
       "      <th>12931044</th>\n",
       "      <td>nm9993719</td>\n",
       "      <td>Andre Hill</td>\n",
       "      <td>\\N</td>\n",
       "      <td>\\N</td>\n",
       "      <td>NaN</td>\n",
       "      <td>\\N</td>\n",
       "    </tr>\n",
       "  </tbody>\n",
       "</table>\n",
       "<p>12931045 rows × 6 columns</p>\n",
       "</div>"
      ],
      "text/plain": [
       "             nconst         primaryName birthYear deathYear  \\\n",
       "0         nm0000001        Fred Astaire      1899      1987   \n",
       "1         nm0000002       Lauren Bacall      1924      2014   \n",
       "2         nm0000003     Brigitte Bardot      1934        \\N   \n",
       "3         nm0000004        John Belushi      1949      1982   \n",
       "4         nm0000005      Ingmar Bergman      1918      2007   \n",
       "...             ...                 ...       ...       ...   \n",
       "12931040  nm9993714   Romeo del Rosario        \\N        \\N   \n",
       "12931041  nm9993716       Essias Loberg        \\N        \\N   \n",
       "12931042  nm9993717  Harikrishnan Rajan        \\N        \\N   \n",
       "12931043  nm9993718         Aayush Nair        \\N        \\N   \n",
       "12931044  nm9993719          Andre Hill        \\N        \\N   \n",
       "\n",
       "                            primaryProfession  \\\n",
       "0              soundtrack,actor,miscellaneous   \n",
       "1                          actress,soundtrack   \n",
       "2         actress,soundtrack,music_department   \n",
       "3                     actor,soundtrack,writer   \n",
       "4                       writer,director,actor   \n",
       "...                                       ...   \n",
       "12931040  animation_department,art_department   \n",
       "12931041                                  NaN   \n",
       "12931042                      cinematographer   \n",
       "12931043                      cinematographer   \n",
       "12931044                                  NaN   \n",
       "\n",
       "                                   knownForTitles  \n",
       "0         tt0053137,tt0050419,tt0072308,tt0031983  \n",
       "1         tt0117057,tt0037382,tt0038355,tt0075213  \n",
       "2         tt0049189,tt0054452,tt0056404,tt0057345  \n",
       "3         tt0077975,tt0080455,tt0072562,tt0078723  \n",
       "4         tt0069467,tt0050986,tt0050976,tt0083922  \n",
       "...                                           ...  \n",
       "12931040          tt14069590,tt11657662,tt2455546  \n",
       "12931041                                       \\N  \n",
       "12931042                                tt8736744  \n",
       "12931043                                tt8736744  \n",
       "12931044                                       \\N  \n",
       "\n",
       "[12931045 rows x 6 columns]"
      ]
     },
     "execution_count": 13,
     "metadata": {},
     "output_type": "execute_result"
    }
   ],
   "source": [
    "data"
   ]
  },
  {
   "cell_type": "code",
   "execution_count": 16,
   "id": "a2c19eb7-87d6-47dc-ac63-ac3bfc8cc0bd",
   "metadata": {},
   "outputs": [
    {
     "data": {
      "text/plain": [
       "str"
      ]
     },
     "execution_count": 16,
     "metadata": {},
     "output_type": "execute_result"
    }
   ],
   "source": [
    "type(data['deathYear'][2])"
   ]
  },
  {
   "cell_type": "code",
   "execution_count": 17,
   "id": "22b64d9e-a480-4670-bdfa-59915bb11ce9",
   "metadata": {},
   "outputs": [],
   "source": [
    "import re"
   ]
  },
  {
   "cell_type": "code",
   "execution_count": 20,
   "id": "3db54a07-0a50-4dbe-a98c-c611225e0ec7",
   "metadata": {},
   "outputs": [],
   "source": [
    "\n"
   ]
  },
  {
   "cell_type": "code",
   "execution_count": 35,
   "id": "0ac260b1-71f6-4542-a074-803a97265e35",
   "metadata": {},
   "outputs": [
    {
     "name": "stdout",
     "output_type": "stream",
     "text": [
      "AWARD\n"
     ]
    }
   ],
   "source": [
    "match = re.search(r'\\b(\\S+)\\s+wins\\s+#goldenglobe\\s+for\\s+(\\S+)\\s+for\\s+(\\S+)', \"xxx wins #goldenglobe for AWARD for role/movie\")\n",
    "if match:\n",
    "    print(match.group(2))"
   ]
  },
  {
   "cell_type": "code",
   "execution_count": null,
   "id": "ceef9a2b-e9cf-48c4-a760-55b30e197f19",
   "metadata": {},
   "outputs": [],
   "source": []
  }
 ],
 "metadata": {
  "kernelspec": {
   "display_name": "Python 3 (ipykernel)",
   "language": "python",
   "name": "python3"
  },
  "language_info": {
   "codemirror_mode": {
    "name": "ipython",
    "version": 3
   },
   "file_extension": ".py",
   "mimetype": "text/x-python",
   "name": "python",
   "nbconvert_exporter": "python",
   "pygments_lexer": "ipython3",
   "version": "3.10.13"
  }
 },
 "nbformat": 4,
 "nbformat_minor": 5
}
